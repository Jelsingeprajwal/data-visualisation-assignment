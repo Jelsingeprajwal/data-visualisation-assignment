{
 "cells": [
  {
   "cell_type": "code",
   "execution_count": 1,
   "id": "3ffa4d36",
   "metadata": {},
   "outputs": [],
   "source": [
    "import numpy as np\n",
    "import pandas as pd\n",
    "import matplotlib.pyplot as plt"
   ]
  },
  {
   "cell_type": "code",
   "execution_count": 2,
   "id": "835406cd",
   "metadata": {
    "scrolled": false
   },
   "outputs": [
    {
     "ename": "FileNotFoundError",
     "evalue": "[Errno 2] No such file or directory: 'D:\\\\DV\\\\Students_Details.csv'",
     "output_type": "error",
     "traceback": [
      "\u001b[1;31m---------------------------------------------------------------------------\u001b[0m",
      "\u001b[1;31mFileNotFoundError\u001b[0m                         Traceback (most recent call last)",
      "\u001b[1;32m<ipython-input-2-0ef0f811e0e2>\u001b[0m in \u001b[0;36m<module>\u001b[1;34m\u001b[0m\n\u001b[1;32m----> 1\u001b[1;33m \u001b[0mstudent_details\u001b[0m\u001b[1;33m=\u001b[0m\u001b[0mpd\u001b[0m\u001b[1;33m.\u001b[0m\u001b[0mread_csv\u001b[0m\u001b[1;33m(\u001b[0m\u001b[1;34m'D:\\DV\\Students_Details.csv'\u001b[0m\u001b[1;33m)\u001b[0m\u001b[1;33m\u001b[0m\u001b[1;33m\u001b[0m\u001b[0m\n\u001b[0m\u001b[0;32m      2\u001b[0m \u001b[0mprint\u001b[0m\u001b[1;33m(\u001b[0m\u001b[0mstudent_details\u001b[0m\u001b[1;33m.\u001b[0m\u001b[0mhead\u001b[0m\u001b[1;33m(\u001b[0m\u001b[1;33m)\u001b[0m\u001b[1;33m)\u001b[0m\u001b[1;33m\u001b[0m\u001b[1;33m\u001b[0m\u001b[0m\n",
      "\u001b[1;32mc:\\users\\dell\\appdata\\local\\programs\\python\\python39\\lib\\site-packages\\pandas\\io\\parsers.py\u001b[0m in \u001b[0;36mread_csv\u001b[1;34m(filepath_or_buffer, sep, delimiter, header, names, index_col, usecols, squeeze, prefix, mangle_dupe_cols, dtype, engine, converters, true_values, false_values, skipinitialspace, skiprows, skipfooter, nrows, na_values, keep_default_na, na_filter, verbose, skip_blank_lines, parse_dates, infer_datetime_format, keep_date_col, date_parser, dayfirst, cache_dates, iterator, chunksize, compression, thousands, decimal, lineterminator, quotechar, quoting, doublequote, escapechar, comment, encoding, dialect, error_bad_lines, warn_bad_lines, delim_whitespace, low_memory, memory_map, float_precision, storage_options)\u001b[0m\n\u001b[0;32m    608\u001b[0m     \u001b[0mkwds\u001b[0m\u001b[1;33m.\u001b[0m\u001b[0mupdate\u001b[0m\u001b[1;33m(\u001b[0m\u001b[0mkwds_defaults\u001b[0m\u001b[1;33m)\u001b[0m\u001b[1;33m\u001b[0m\u001b[1;33m\u001b[0m\u001b[0m\n\u001b[0;32m    609\u001b[0m \u001b[1;33m\u001b[0m\u001b[0m\n\u001b[1;32m--> 610\u001b[1;33m     \u001b[1;32mreturn\u001b[0m \u001b[0m_read\u001b[0m\u001b[1;33m(\u001b[0m\u001b[0mfilepath_or_buffer\u001b[0m\u001b[1;33m,\u001b[0m \u001b[0mkwds\u001b[0m\u001b[1;33m)\u001b[0m\u001b[1;33m\u001b[0m\u001b[1;33m\u001b[0m\u001b[0m\n\u001b[0m\u001b[0;32m    611\u001b[0m \u001b[1;33m\u001b[0m\u001b[0m\n\u001b[0;32m    612\u001b[0m \u001b[1;33m\u001b[0m\u001b[0m\n",
      "\u001b[1;32mc:\\users\\dell\\appdata\\local\\programs\\python\\python39\\lib\\site-packages\\pandas\\io\\parsers.py\u001b[0m in \u001b[0;36m_read\u001b[1;34m(filepath_or_buffer, kwds)\u001b[0m\n\u001b[0;32m    460\u001b[0m \u001b[1;33m\u001b[0m\u001b[0m\n\u001b[0;32m    461\u001b[0m     \u001b[1;31m# Create the parser.\u001b[0m\u001b[1;33m\u001b[0m\u001b[1;33m\u001b[0m\u001b[1;33m\u001b[0m\u001b[0m\n\u001b[1;32m--> 462\u001b[1;33m     \u001b[0mparser\u001b[0m \u001b[1;33m=\u001b[0m \u001b[0mTextFileReader\u001b[0m\u001b[1;33m(\u001b[0m\u001b[0mfilepath_or_buffer\u001b[0m\u001b[1;33m,\u001b[0m \u001b[1;33m**\u001b[0m\u001b[0mkwds\u001b[0m\u001b[1;33m)\u001b[0m\u001b[1;33m\u001b[0m\u001b[1;33m\u001b[0m\u001b[0m\n\u001b[0m\u001b[0;32m    463\u001b[0m \u001b[1;33m\u001b[0m\u001b[0m\n\u001b[0;32m    464\u001b[0m     \u001b[1;32mif\u001b[0m \u001b[0mchunksize\u001b[0m \u001b[1;32mor\u001b[0m \u001b[0miterator\u001b[0m\u001b[1;33m:\u001b[0m\u001b[1;33m\u001b[0m\u001b[1;33m\u001b[0m\u001b[0m\n",
      "\u001b[1;32mc:\\users\\dell\\appdata\\local\\programs\\python\\python39\\lib\\site-packages\\pandas\\io\\parsers.py\u001b[0m in \u001b[0;36m__init__\u001b[1;34m(self, f, engine, **kwds)\u001b[0m\n\u001b[0;32m    817\u001b[0m             \u001b[0mself\u001b[0m\u001b[1;33m.\u001b[0m\u001b[0moptions\u001b[0m\u001b[1;33m[\u001b[0m\u001b[1;34m\"has_index_names\"\u001b[0m\u001b[1;33m]\u001b[0m \u001b[1;33m=\u001b[0m \u001b[0mkwds\u001b[0m\u001b[1;33m[\u001b[0m\u001b[1;34m\"has_index_names\"\u001b[0m\u001b[1;33m]\u001b[0m\u001b[1;33m\u001b[0m\u001b[1;33m\u001b[0m\u001b[0m\n\u001b[0;32m    818\u001b[0m \u001b[1;33m\u001b[0m\u001b[0m\n\u001b[1;32m--> 819\u001b[1;33m         \u001b[0mself\u001b[0m\u001b[1;33m.\u001b[0m\u001b[0m_engine\u001b[0m \u001b[1;33m=\u001b[0m \u001b[0mself\u001b[0m\u001b[1;33m.\u001b[0m\u001b[0m_make_engine\u001b[0m\u001b[1;33m(\u001b[0m\u001b[0mself\u001b[0m\u001b[1;33m.\u001b[0m\u001b[0mengine\u001b[0m\u001b[1;33m)\u001b[0m\u001b[1;33m\u001b[0m\u001b[1;33m\u001b[0m\u001b[0m\n\u001b[0m\u001b[0;32m    820\u001b[0m \u001b[1;33m\u001b[0m\u001b[0m\n\u001b[0;32m    821\u001b[0m     \u001b[1;32mdef\u001b[0m \u001b[0mclose\u001b[0m\u001b[1;33m(\u001b[0m\u001b[0mself\u001b[0m\u001b[1;33m)\u001b[0m\u001b[1;33m:\u001b[0m\u001b[1;33m\u001b[0m\u001b[1;33m\u001b[0m\u001b[0m\n",
      "\u001b[1;32mc:\\users\\dell\\appdata\\local\\programs\\python\\python39\\lib\\site-packages\\pandas\\io\\parsers.py\u001b[0m in \u001b[0;36m_make_engine\u001b[1;34m(self, engine)\u001b[0m\n\u001b[0;32m   1048\u001b[0m             )\n\u001b[0;32m   1049\u001b[0m         \u001b[1;31m# error: Too many arguments for \"ParserBase\"\u001b[0m\u001b[1;33m\u001b[0m\u001b[1;33m\u001b[0m\u001b[1;33m\u001b[0m\u001b[0m\n\u001b[1;32m-> 1050\u001b[1;33m         \u001b[1;32mreturn\u001b[0m \u001b[0mmapping\u001b[0m\u001b[1;33m[\u001b[0m\u001b[0mengine\u001b[0m\u001b[1;33m]\u001b[0m\u001b[1;33m(\u001b[0m\u001b[0mself\u001b[0m\u001b[1;33m.\u001b[0m\u001b[0mf\u001b[0m\u001b[1;33m,\u001b[0m \u001b[1;33m**\u001b[0m\u001b[0mself\u001b[0m\u001b[1;33m.\u001b[0m\u001b[0moptions\u001b[0m\u001b[1;33m)\u001b[0m  \u001b[1;31m# type: ignore[call-arg]\u001b[0m\u001b[1;33m\u001b[0m\u001b[1;33m\u001b[0m\u001b[0m\n\u001b[0m\u001b[0;32m   1051\u001b[0m \u001b[1;33m\u001b[0m\u001b[0m\n\u001b[0;32m   1052\u001b[0m     \u001b[1;32mdef\u001b[0m \u001b[0m_failover_to_python\u001b[0m\u001b[1;33m(\u001b[0m\u001b[0mself\u001b[0m\u001b[1;33m)\u001b[0m\u001b[1;33m:\u001b[0m\u001b[1;33m\u001b[0m\u001b[1;33m\u001b[0m\u001b[0m\n",
      "\u001b[1;32mc:\\users\\dell\\appdata\\local\\programs\\python\\python39\\lib\\site-packages\\pandas\\io\\parsers.py\u001b[0m in \u001b[0;36m__init__\u001b[1;34m(self, src, **kwds)\u001b[0m\n\u001b[0;32m   1865\u001b[0m \u001b[1;33m\u001b[0m\u001b[0m\n\u001b[0;32m   1866\u001b[0m         \u001b[1;31m# open handles\u001b[0m\u001b[1;33m\u001b[0m\u001b[1;33m\u001b[0m\u001b[1;33m\u001b[0m\u001b[0m\n\u001b[1;32m-> 1867\u001b[1;33m         \u001b[0mself\u001b[0m\u001b[1;33m.\u001b[0m\u001b[0m_open_handles\u001b[0m\u001b[1;33m(\u001b[0m\u001b[0msrc\u001b[0m\u001b[1;33m,\u001b[0m \u001b[0mkwds\u001b[0m\u001b[1;33m)\u001b[0m\u001b[1;33m\u001b[0m\u001b[1;33m\u001b[0m\u001b[0m\n\u001b[0m\u001b[0;32m   1868\u001b[0m         \u001b[1;32massert\u001b[0m \u001b[0mself\u001b[0m\u001b[1;33m.\u001b[0m\u001b[0mhandles\u001b[0m \u001b[1;32mis\u001b[0m \u001b[1;32mnot\u001b[0m \u001b[1;32mNone\u001b[0m\u001b[1;33m\u001b[0m\u001b[1;33m\u001b[0m\u001b[0m\n\u001b[0;32m   1869\u001b[0m         \u001b[1;32mfor\u001b[0m \u001b[0mkey\u001b[0m \u001b[1;32min\u001b[0m \u001b[1;33m(\u001b[0m\u001b[1;34m\"storage_options\"\u001b[0m\u001b[1;33m,\u001b[0m \u001b[1;34m\"encoding\"\u001b[0m\u001b[1;33m,\u001b[0m \u001b[1;34m\"memory_map\"\u001b[0m\u001b[1;33m,\u001b[0m \u001b[1;34m\"compression\"\u001b[0m\u001b[1;33m)\u001b[0m\u001b[1;33m:\u001b[0m\u001b[1;33m\u001b[0m\u001b[1;33m\u001b[0m\u001b[0m\n",
      "\u001b[1;32mc:\\users\\dell\\appdata\\local\\programs\\python\\python39\\lib\\site-packages\\pandas\\io\\parsers.py\u001b[0m in \u001b[0;36m_open_handles\u001b[1;34m(self, src, kwds)\u001b[0m\n\u001b[0;32m   1360\u001b[0m         \u001b[0mLet\u001b[0m \u001b[0mthe\u001b[0m \u001b[0mreaders\u001b[0m \u001b[0mopen\u001b[0m \u001b[0mIOHanldes\u001b[0m \u001b[0mafter\u001b[0m \u001b[0mthey\u001b[0m \u001b[0mare\u001b[0m \u001b[0mdone\u001b[0m \u001b[1;32mwith\u001b[0m \u001b[0mtheir\u001b[0m \u001b[0mpotential\u001b[0m \u001b[0mraises\u001b[0m\u001b[1;33m.\u001b[0m\u001b[1;33m\u001b[0m\u001b[1;33m\u001b[0m\u001b[0m\n\u001b[0;32m   1361\u001b[0m         \"\"\"\n\u001b[1;32m-> 1362\u001b[1;33m         self.handles = get_handle(\n\u001b[0m\u001b[0;32m   1363\u001b[0m             \u001b[0msrc\u001b[0m\u001b[1;33m,\u001b[0m\u001b[1;33m\u001b[0m\u001b[1;33m\u001b[0m\u001b[0m\n\u001b[0;32m   1364\u001b[0m             \u001b[1;34m\"r\"\u001b[0m\u001b[1;33m,\u001b[0m\u001b[1;33m\u001b[0m\u001b[1;33m\u001b[0m\u001b[0m\n",
      "\u001b[1;32mc:\\users\\dell\\appdata\\local\\programs\\python\\python39\\lib\\site-packages\\pandas\\io\\common.py\u001b[0m in \u001b[0;36mget_handle\u001b[1;34m(path_or_buf, mode, encoding, compression, memory_map, is_text, errors, storage_options)\u001b[0m\n\u001b[0;32m    640\u001b[0m                 \u001b[0merrors\u001b[0m \u001b[1;33m=\u001b[0m \u001b[1;34m\"replace\"\u001b[0m\u001b[1;33m\u001b[0m\u001b[1;33m\u001b[0m\u001b[0m\n\u001b[0;32m    641\u001b[0m             \u001b[1;31m# Encoding\u001b[0m\u001b[1;33m\u001b[0m\u001b[1;33m\u001b[0m\u001b[1;33m\u001b[0m\u001b[0m\n\u001b[1;32m--> 642\u001b[1;33m             handle = open(\n\u001b[0m\u001b[0;32m    643\u001b[0m                 \u001b[0mhandle\u001b[0m\u001b[1;33m,\u001b[0m\u001b[1;33m\u001b[0m\u001b[1;33m\u001b[0m\u001b[0m\n\u001b[0;32m    644\u001b[0m                 \u001b[0mioargs\u001b[0m\u001b[1;33m.\u001b[0m\u001b[0mmode\u001b[0m\u001b[1;33m,\u001b[0m\u001b[1;33m\u001b[0m\u001b[1;33m\u001b[0m\u001b[0m\n",
      "\u001b[1;31mFileNotFoundError\u001b[0m: [Errno 2] No such file or directory: 'D:\\\\DV\\\\Students_Details.csv'"
     ]
    }
   ],
   "source": [
    "student_details=pd.read_csv('D:\\DV\\Students_Details.csv')\n",
    "print(student_details.head())"
   ]
  },
  {
   "cell_type": "code",
   "execution_count": null,
   "id": "ef1624e4",
   "metadata": {},
   "outputs": [],
   "source": [
    "#1. What is the performance according to marks percentage between male and female students\n",
    "k=student_details.groupby(['Gender'])\n",
    "males=k.get_group('Male')\n",
    "females=k.get_group('Female')\n",
    "mp=np.array(males['Percentage'])\n",
    "fp=np.array(females['Percentage'])\n",
    "print('Male Avg Percentage',mp.mean())\n",
    "print('Female Avg Percentage',fp.mean())\n",
    "tick_label=['Male','Female']\n",
    "plt.bar(['Male','Female'],[mp.mean(),fp.mean()],width=0.2,color=['c','pink'])\n",
    "plt.xlabel('Gender')\n",
    "plt.ylabel('Average Percentage')\n",
    "plt.show()"
   ]
  },
  {
   "cell_type": "code",
   "execution_count": null,
   "id": "777f2e46",
   "metadata": {},
   "outputs": [],
   "source": [
    "#2. What are the marks percentages of the students city wise\n",
    "c=student_details.groupby('City')\n",
    "hyd=c.get_group('Hyderabad')\n",
    "war=c.get_group('Warangal')\n",
    "sang=c.get_group('Sangareddy')\n",
    "sec=c.get_group('Secunderabad')\n",
    "kad=c.get_group('Kadappa')\n",
    "anat=c.get_group('Anantapur')\n",
    "kar=c.get_group('Karimnagar')\n",
    "viz=c.get_group('Vizag')\n",
    "gun=c.get_group('Guntur')\n",
    "vij=c.get_group('Vijayawada')\n",
    "hyd_percentage=hyd[['Roll no','Name','City','Percentage']]\n",
    "sang_percentage=sang[['Roll no','Name','City','Percentage']]\n",
    "sec_percentage=sec[['Roll no','Name','City','Percentage']]\n",
    "kad_percentage=kad[['Roll no','Name','City','Percentage']]\n",
    "anat_percentage=anat[['Roll no','Name','City','Percentage']]\n",
    "viz_percentage=viz[['Roll no','Name','City','Percentage']]\n",
    "gun_percentage=gun[['Roll no','Name','City','Percentage']]\n",
    "vij_percentage=vij[['Roll no','Name','City','Percentage']]\n",
    "kar_percentage=kar[['Roll no','Name','City','Percentage']]\n",
    "war_percentage=war[['Roll no','Name','City','Percentage']]\n",
    "\n",
    "print(hyd_percentage)"
   ]
  },
  {
   "cell_type": "code",
   "execution_count": null,
   "id": "eb1fdc84",
   "metadata": {},
   "outputs": [],
   "source": [
    "#2. What are the marks percentages of the students city wise\n",
    "c=student_details.groupby('City')\n",
    "hyd=c.get_group('Hyderabad')\n",
    "war=c.get_group('Warangal')\n",
    "sang=c.get_group('Sangareddy')\n",
    "sec=c.get_group('Secunderabad')\n",
    "kad=c.get_group('Kadappa')\n",
    "anat=c.get_group('Anantapur')\n",
    "kar=c.get_group('Karimnagar')\n",
    "viz=c.get_group('Vizag')\n",
    "gun=c.get_group('Guntur')\n",
    "vij=c.get_group('Vijayawada')\n",
    "hyd_percentage=hyd['Percentage'].mean()\n",
    "sang_percentage=sang['Percentage'].mean()\n",
    "sec_percentage=sec['Percentage'].mean()\n",
    "kad_percentage=kad['Percentage'].mean()\n",
    "anat_percentage=anat['Percentage'].mean()\n",
    "viz_percentage=viz['Percentage'].mean()\n",
    "gun_percentage=gun['Percentage'].mean()\n",
    "vij_percentage=vij['Percentage'].mean()\n",
    "kar_percentage=kar['Percentage'].mean()\n",
    "war_percentage=war['Percentage'].mean()\n",
    "print(hyd_percentage)\n",
    "plt.bar(['Hyd','War','Sang','Sec','Kad','Anat','Kar','Viz','Gun','Vij'],\n",
    "[hyd_percentage,war_percentage,sang_percentage,sec_percentage,kad_percentage,anat_percentage,kar_percentage,viz_percentage,gun_percentage,vij_percentage],\n",
    "width=0.4,color=['m'])\n",
    "plt.xlabel('Cities')\n",
    "plt.ylabel('Students Marks Percentage')\n",
    "plt.show()\n"
   ]
  },
  {
   "cell_type": "code",
   "execution_count": null,
   "id": "78d92419",
   "metadata": {},
   "outputs": [],
   "source": [
    "#3. Which Branch Students attendance is better?\n",
    "b=student_details.groupby('Branch')\n",
    "student_details['Branch'].drop_duplicates()\n",
    "cse_attendance=b.get_group('CSE')\n",
    "it_attendance=b.get_group('IT')\n",
    "ece_attendance=b.get_group('ECE')\n",
    "# cse_attendance[['Roll no','Branch','Attendance']]\n",
    "# it_attendance[['Roll no','Branch','Attendance']]\n",
    "# ece_attendance[['Roll no','Branch','Attendance']]\n",
    "cse=np.array(cse_attendance['Attendance'])\n",
    "it=np.array(it_attendance['Attendance'])\n",
    "ece=np.array(ece_attendance['Attendance'])\n",
    "#plt.bar(['CSE','IT','ECE'],[cse.mean(),it.mean(),ece.mean()],width=0.5,color=['orange'])\n",
    "plt.pie([cse.mean(),it.mean(),ece.mean()],explode=[0,0.2,0],labels=['CSE','IT','ECE'],autopct='%1.2f%%')\n",
    "#plt.ylabel('Students attendance')\n",
    "#plt.xlabel('Branches')\n",
    "plt.title('Attendence of students branch wise')\n",
    "plt.show()"
   ]
  },
  {
   "cell_type": "code",
   "execution_count": null,
   "id": "79f18646",
   "metadata": {},
   "outputs": [],
   "source": [
    "#4. What is the Average percentage of marks of the students who are having less than 5 backlogs?\n",
    "less_than_5=student_details[student_details['no. of Backlogs'] < 5]\n",
    "print('Average percentage of marks of the students who are having less than 5 backlogs:',less_than_5['Percentage'].mean())"
   ]
  },
  {
   "cell_type": "code",
   "execution_count": null,
   "id": "68a9439b",
   "metadata": {},
   "outputs": [],
   "source": [
    "#5. Compare students marks percentages according to their year of passing.\n",
    "p=student_details.groupby('Awarded Year')\n",
    "year_2019=p.get_group(2019)\n",
    "year_2020=p.get_group(2020)\n",
    "year_2021=p.get_group(2021)\n",
    "a=year_2019['Percentage'].mean()\n",
    "b=year_2020['Percentage'].mean()\n",
    "c=year_2021['Percentage'].mean()\n",
    "plt.bar([2019,2020,2021],[a,b,c],width=0.2,color=['c'])\n",
    "plt.xlabel('Year of Passing')\n",
    "plt.ylabel('Percentage')\n",
    "plt.xticks(range(2019,2022))\n",
    "plt.show()"
   ]
  },
  {
   "cell_type": "code",
   "execution_count": null,
   "id": "d91f025e",
   "metadata": {},
   "outputs": [],
   "source": [
    "#6. Use descriptive analysis to describe the whole data.\n",
    "student_details.describe()\n",
    "print(student_details.describe())"
   ]
  },
  {
   "cell_type": "code",
   "execution_count": null,
   "id": "610a57aa",
   "metadata": {},
   "outputs": [],
   "source": [
    "#7. Draw a sample from the dataset whose mean of marks percentage is equal to population\n",
    "f=plt.figure()\n",
    "f.set_figheight(30)\n",
    "l=student_details['Percentage'].mean()\n",
    "print(\"Population mean is \",l)\n",
    "d=student_details.tail(15)\n",
    "z=d[['Percentage']].mean()\n",
    "print('Sample mean is' ,z)\n",
    "plt.pie([l,z],labels=['population','Sample'],autopct='%1.1f%%')\n",
    "plt.title(\"sample\")\n",
    "plt.show()\n",
    "\n"
   ]
  },
  {
   "cell_type": "code",
   "execution_count": null,
   "id": "188800fa",
   "metadata": {},
   "outputs": [],
   "source": []
  },
  {
   "cell_type": "code",
   "execution_count": null,
   "id": "d5872645",
   "metadata": {},
   "outputs": [],
   "source": []
  }
 ],
 "metadata": {
  "kernelspec": {
   "display_name": "Python 3",
   "language": "python",
   "name": "python3"
  },
  "language_info": {
   "codemirror_mode": {
    "name": "ipython",
    "version": 3
   },
   "file_extension": ".py",
   "mimetype": "text/x-python",
   "name": "python",
   "nbconvert_exporter": "python",
   "pygments_lexer": "ipython3",
   "version": "3.9.3"
  }
 },
 "nbformat": 4,
 "nbformat_minor": 5
}
