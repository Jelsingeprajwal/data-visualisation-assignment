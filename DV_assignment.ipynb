{
 "cells": [
  {
   "cell_type": "code",
   "execution_count": 1,
   "id": "f288b8df",
   "metadata": {},
   "outputs": [],
   "source": [
    "import numpy as np\n",
    "import pandas as pd\n",
    "import matplotlib.pyplot as plt"
   ]
  },
  {
   "cell_type": "code",
   "execution_count": 2,
   "id": "7c94b9c1",
   "metadata": {
    "scrolled": false
   },
   "outputs": [
    {
     "name": "stdout",
     "output_type": "stream",
     "text": [
      "   Sno  Roll no  Name     Ph no          City  Gender  Percentage  \\\n",
      "0    1      501  PMCL  47332135    Sangareddy  Female          66   \n",
      "1    2      502  JRFC  41830410      Warangal    Male          67   \n",
      "2    3      503  PPAO  88534420     Hyderabad  Female          93   \n",
      "3    4      504  EEEQ  62648934  Secunderabad  Female          55   \n",
      "4    5      505  MSXE  68667252  Secunderabad  Female          62   \n",
      "\n",
      "   no. of Backlogs  Attendance  Awarded Year Branch  \n",
      "0                5          53          2021    CSE  \n",
      "1                1          40          2021    CSE  \n",
      "2                2          72          2021     IT  \n",
      "3                3          50          2020    ECE  \n",
      "4                7          72          2019     IT  \n"
     ]
    }
   ],
   "source": [
    "student_details=pd.read_csv('./Students_Details.csv')\n",
    "print(student_details.head())"
   ]
  },
  {
   "cell_type": "code",
   "execution_count": 3,
   "id": "91e44a53",
   "metadata": {
    "scrolled": true
   },
   "outputs": [
    {
     "name": "stdout",
     "output_type": "stream",
     "text": [
      "Male Avg Percentage 68.83333333333333\n",
      "Female Avg Percentage 71.6734693877551\n"
     ]
    },
    {
     "data": {
      "image/png": "[encoded data removed]",
      "text/plain": [
       "<Figure size 432x288 with 1 Axes>"
      ]
     },
     "metadata": {
      "needs_background": "light"
     },
     "output_type": "display_data"
    }
   ],
   "source": [
    "#1. What is the performance according to marks percentage between male and female students\n",
    "k=student_details.groupby(['Gender'])\n",
    "males=k.get_group('Male')\n",
    "males_rollno=males['Roll no']\n",
    "females=k.get_group('Female')\n",
    "females_rollno=females['Roll no']\n",
    "males_percentage=np.array(males['Percentage'])\n",
    "females_percentage=np.array(females['Percentage'])\n",
    "print('Male Avg Percentage',males_percentage.mean())\n",
    "print('Female Avg Percentage',females_percentage.mean())\n",
    "# print(males[['Roll no','Percentage']])\n",
    "# print(females[['Roll no','Percentage']])\n",
    "plt.bar(['male','female'],[males_percentage.mean(),females_percentage.mean()],width=0.2,color=['royalblue','y'])\n",
    "plt.xlabel('Gender')\n",
    "plt.ylabel('Average Percentage')\n",
    "plt.show()"
   ]
  },
  {
   "cell_type": "code",
   "execution_count": 4,
   "id": "54202594",
   "metadata": {
    "scrolled": true
   },
   "outputs": [
    {
     "name": "stdout",
     "output_type": "stream",
     "text": [
      "     Roll no  Name       City  Percentage\n",
      "2        503  PPAO  Hyderabad          93\n",
      "6        507  HTVU  Hyderabad          78\n",
      "7        508  IKKY  Hyderabad          95\n",
      "17       518  YEQI  Hyderabad          61\n",
      "32       533  NZIS  Hyderabad          54\n",
      "49       550  YHGA  Hyderabad          47\n",
      "52       553  OIHS  Hyderabad          49\n",
      "53       554  JNFN  Hyderabad          86\n",
      "55       556  NHXD  Hyderabad          56\n",
      "67       568  WRKS  Hyderabad          60\n",
      "76       577  OEON  Hyderabad          66\n",
      "81       582  HGNI  Hyderabad          70\n",
      "90       591  ETTZ  Hyderabad          83\n",
      "93       594  BLPU  Hyderabad          90\n",
      "106      607  OCWK  Hyderabad          66\n",
      "117      618  XXOO  Hyderabad          65\n",
      "188      689  DFOX  Hyderabad          75\n",
      "190      691  ECHX  Hyderabad          82\n",
      "194      695  WIED  Hyderabad          46\n",
      "199      700  QMVX  Hyderabad          44\n"
     ]
    }
   ],
   "source": [
    "#2. What are the marks percentages of the students city wise?\n",
    "len(student_details['City'].drop_duplicates())\n",
    "student_details['City'].drop_duplicates()\n",
    "# print(student_details['City'].drop_duplicates())\n",
    "c=student_details.groupby('City')\n",
    "hyd=c.get_group('Hyderabad')\n",
    "war=c.get_group('Warangal')\n",
    "sang=c.get_group('Sangareddy')\n",
    "sec=c.get_group('Secunderabad')\n",
    "kad=c.get_group('Kadappa')\n",
    "anat=c.get_group('Anantapur')\n",
    "kar=c.get_group('Karimnagar')\n",
    "viz=c.get_group('Vizag')\n",
    "gun=c.get_group('Guntur')\n",
    "vij=c.get_group('Vijayawada')\n",
    "hyd_percentage=hyd[['Roll no','Name','City','Percentage']]\n",
    "sang_percentage=sang[['Roll no','Name','City','Percentage']]\n",
    "sec_percentage=sec[['Roll no','Name','City','Percentage']]\n",
    "kad_percentage=kad[['Roll no','Name','City','Percentage']]\n",
    "anat_percentage=anat[['Roll no','Name','City','Percentage']]\n",
    "viz_percentage=viz[['Roll no','Name','City','Percentage']]\n",
    "gun_percentage=gun[['Roll no','Name','City','Percentage']]\n",
    "vij_percentage=vij[['Roll no','Name','City','Percentage']]\n",
    "kar_percentage=kar[['Roll no','Name','City','Percentage']]\n",
    "war_percentage=war[['Roll no','Name','City','Percentage']]\n",
    "\n",
    "print(hyd_percentage)"
   ]
  },
  {
   "cell_type": "code",
   "execution_count": 5,
   "id": "78cc8151",
   "metadata": {
    "scrolled": true
   },
   "outputs": [
    {
     "data": {
      "image/png": "[encoded data removed]",
      "text/plain": [
       "<Figure size 432x288 with 1 Axes>"
      ]
     },
     "metadata": {
      "needs_background": "light"
     },
     "output_type": "display_data"
    }
   ],
   "source": [
    "#2. What are the marks percentages of the students city wise?\n",
    "c=student_details.groupby('City')\n",
    "city=list(c)\n",
    "hyd=c.get_group('Hyderabad')['Percentage'].mean()\n",
    "war=c.get_group('Warangal')['Percentage'].mean()\n",
    "sang=c.get_group('Sangareddy')['Percentage'].mean()\n",
    "sec=c.get_group('Secunderabad')['Percentage'].mean()\n",
    "kad=c.get_group('Kadappa')['Percentage'].mean()\n",
    "anat=c.get_group('Anantapur')['Percentage'].mean()\n",
    "kar=c.get_group('Karimnagar')['Percentage'].mean()\n",
    "viz=c.get_group('Vizag')['Percentage'].mean()\n",
    "gun=c.get_group('Guntur')['Percentage'].mean()\n",
    "vij=c.get_group('Vijayawada')['Percentage'].mean()\n",
    "\n",
    "plt.barh(['Hyderabad','Warangal','Sangareddy','Secunderabad','Kadapa','Anatapur','Karimnagar','Vizag','Guntur','vijayawada'],[hyd,war,sang,sec,kad,anat,kar,viz,gun,vij],\n",
    "color=['m','c','r','g','y','b','teal','seagreen','royalblue','pink'])\n",
    "plt.title('marks percentages of the students city wise')\n",
    "plt.xlabel('Students Marks Percentage')\n",
    "\n",
    "plt.ylabel('Cities')\n",
    "plt.show()"
   ]
  },
  {
   "cell_type": "code",
   "execution_count": 6,
   "id": "2c551833",
   "metadata": {},
   "outputs": [
    {
     "data": {
      "image/png": "[encoded data removed]",
      "text/plain": [
       "<Figure size 432x288 with 1 Axes>"
      ]
     },
     "metadata": {},
     "output_type": "display_data"
    },
    {
     "name": "stdout",
     "output_type": "stream",
     "text": [
      "Avg attendance of CSE is 68.30666666666667\n",
      "Avg attendance of ECE is 67.38235294117646\n",
      "Avg attendance of IT is 71.28070175438596\n"
     ]
    }
   ],
   "source": [
    "#3. Which Branch Students attendance is better?\n",
    "b=student_details.groupby('Branch')\n",
    "student_details['Branch'].drop_duplicates()\n",
    "cse_attendance=b.get_group('CSE')\n",
    "it_attendance=b.get_group('IT')\n",
    "ece_attendance=b.get_group('ECE')\n",
    "# cse_attendance[['Roll no','Branch','Attendance']]\n",
    "# it_attendance[['Roll no','Branch','Attendance']]\n",
    "# ece_attendance[['Roll no','Branch','Attendance']]\n",
    "cse=np.array(cse_attendance['Attendance'])\n",
    "it=np.array(it_attendance['Attendance'])\n",
    "ece=np.array(ece_attendance['Attendance'])\n",
    "# plt.bar(['CSE','IT','ECE'],[cse.mean(),it.mean(),ece.mean()],width=0.5) #BAR GRAPH\n",
    "# plt.ylabel('Branch Students attendance')\n",
    "# plt.xlabel('Branches')\n",
    "\n",
    "plt.pie([cse.mean(),it.mean(),ece.mean()],explode=[0,0.2,0],labels=['CSE','IT','ECE'],autopct='%1.2f%%') # PIE CHART\n",
    "plt.title('Attendance of students branch wise')\n",
    "plt.show()\n",
    "print(\"Avg attendance of CSE is\",cse.mean())\n",
    "print(\"Avg attendance of ECE is\",ece.mean())\n",
    "print(\"Avg attendance of IT is\",it.mean())"
   ]
  },
  {
   "cell_type": "code",
   "execution_count": 7,
   "id": "b7e95726",
   "metadata": {
    "scrolled": true
   },
   "outputs": [
    {
     "name": "stdout",
     "output_type": "stream",
     "text": [
      "Average percentage of marks of the students who are having less than 5 backlogs: 70.65333333333334\n"
     ]
    },
    {
     "data": {
      "image/png": "[encoded data removed]",
      "text/plain": [
       "<Figure size 432x288 with 1 Axes>"
      ]
     },
     "metadata": {
      "needs_background": "light"
     },
     "output_type": "display_data"
    }
   ],
   "source": [
    "#4. What is the Average percentage of marks of the students who are having less than 5 backlogs?\n",
    "x=student_details[student_details['no. of Backlogs'] < 5]\n",
    "print('Average percentage of marks of the students who are having less than 5 backlogs:',x['Percentage'].mean())\n",
    "plt.boxplot(x['Percentage'],patch_artist=True)\n",
    "plt.show()\n",
    "\n",
    "\n"
   ]
  },
  {
   "cell_type": "code",
   "execution_count": 8,
   "id": "ae99ccfc",
   "metadata": {},
   "outputs": [
    {
     "data": {
      "image/png": "[encoded data removed]",
      "text/plain": [
       "<Figure size 432x288 with 1 Axes>"
      ]
     },
     "metadata": {
      "needs_background": "light"
     },
     "output_type": "display_data"
    }
   ],
   "source": [
    "#5. Compare students marks percentages according to their year of passing.\n",
    "# student_details['Awarded Year'].drop_duplicates()\n",
    "p=student_details.groupby('Awarded Year')\n",
    "year_2019=p.get_group(2019)\n",
    "year_2020=p.get_group(2020)\n",
    "year_2021=p.get_group(2021)\n",
    "a=year_2019['Percentage'].mean()\n",
    "b=year_2020['Percentage'].mean()\n",
    "c=year_2021['Percentage'].mean()\n",
    "plt.bar([2019,2020,2021],[a,b,c],width=0.2,color=['brown','teal','seagreen'])\n",
    "plt.title('Students marks percentages according to their year of passing')\n",
    "plt.xlabel('Year of Passing')\n",
    "plt.ylabel('Percentage')\n",
    "plt.xticks(range(2019,2022))\n",
    "plt.show()"
   ]
  },
  {
   "cell_type": "code",
   "execution_count": 14,
   "id": "f8a8e013",
   "metadata": {},
   "outputs": [
    {
     "data": {
      "text/html": [
       "<div>\n",
       "<style scoped>\n",
       "    .dataframe tbody tr th:only-of-type {\n",
       "        vertical-align: middle;\n",
       "    }\n",
       "\n",
       "    .dataframe tbody tr th {\n",
       "        vertical-align: top;\n",
       "    }\n",
       "\n",
       "    .dataframe thead th {\n",
       "        text-align: right;\n",
       "    }\n",
       "</style>\n",
       "<table border=\"1\" class=\"dataframe\">\n",
       "  <thead>\n",
       "    <tr style=\"text-align: right;\">\n",
       "      <th></th>\n",
       "      <th>Roll no</th>\n",
       "      <th>Percentage</th>\n",
       "      <th>no. of Backlogs</th>\n",
       "      <th>Attendance</th>\n",
       "    </tr>\n",
       "  </thead>\n",
       "  <tbody>\n",
       "    <tr>\n",
       "      <th>count</th>\n",
       "      <td>200.000000</td>\n",
       "      <td>200.000000</td>\n",
       "      <td>200.000000</td>\n",
       "      <td>200.00000</td>\n",
       "    </tr>\n",
       "    <tr>\n",
       "      <th>mean</th>\n",
       "      <td>600.500000</td>\n",
       "      <td>70.225000</td>\n",
       "      <td>5.420000</td>\n",
       "      <td>68.84000</td>\n",
       "    </tr>\n",
       "    <tr>\n",
       "      <th>std</th>\n",
       "      <td>57.879185</td>\n",
       "      <td>15.832807</td>\n",
       "      <td>3.173952</td>\n",
       "      <td>17.59952</td>\n",
       "    </tr>\n",
       "    <tr>\n",
       "      <th>min</th>\n",
       "      <td>501.000000</td>\n",
       "      <td>40.000000</td>\n",
       "      <td>0.000000</td>\n",
       "      <td>40.00000</td>\n",
       "    </tr>\n",
       "    <tr>\n",
       "      <th>25%</th>\n",
       "      <td>550.750000</td>\n",
       "      <td>59.000000</td>\n",
       "      <td>3.000000</td>\n",
       "      <td>52.75000</td>\n",
       "    </tr>\n",
       "    <tr>\n",
       "      <th>50%</th>\n",
       "      <td>600.500000</td>\n",
       "      <td>71.500000</td>\n",
       "      <td>6.000000</td>\n",
       "      <td>69.00000</td>\n",
       "    </tr>\n",
       "    <tr>\n",
       "      <th>75%</th>\n",
       "      <td>650.250000</td>\n",
       "      <td>83.000000</td>\n",
       "      <td>8.000000</td>\n",
       "      <td>86.00000</td>\n",
       "    </tr>\n",
       "    <tr>\n",
       "      <th>max</th>\n",
       "      <td>700.000000</td>\n",
       "      <td>95.000000</td>\n",
       "      <td>10.000000</td>\n",
       "      <td>100.00000</td>\n",
       "    </tr>\n",
       "  </tbody>\n",
       "</table>\n",
       "</div>"
      ],
      "text/plain": [
       "          Roll no  Percentage  no. of Backlogs  Attendance\n",
       "count  200.000000  200.000000       200.000000   200.00000\n",
       "mean   600.500000   70.225000         5.420000    68.84000\n",
       "std     57.879185   15.832807         3.173952    17.59952\n",
       "min    501.000000   40.000000         0.000000    40.00000\n",
       "25%    550.750000   59.000000         3.000000    52.75000\n",
       "50%    600.500000   71.500000         6.000000    69.00000\n",
       "75%    650.250000   83.000000         8.000000    86.00000\n",
       "max    700.000000   95.000000        10.000000   100.00000"
      ]
     },
     "execution_count": 14,
     "metadata": {},
     "output_type": "execute_result"
    }
   ],
   "source": [
    "#6. Use descriptive analysis to describe the whole data.\n",
    "# student_details.describe()\n",
    "student_details[['Roll no','Percentage','no. of Backlogs','Attendance']].describe()\n",
    "# print(student_details.describe())"
   ]
  },
  {
   "cell_type": "code",
   "execution_count": 10,
   "id": "1c5578f7",
   "metadata": {},
   "outputs": [
    {
     "name": "stdout",
     "output_type": "stream",
     "text": [
      "Population mean is  70.225\n",
      "Sample mean is Percentage    70.066667\n",
      "dtype: float64\n"
     ]
    },
    {
     "data": {
      "image/png": "[encoded data removed]",
      "text/plain": [
       "<Figure size 432x1440 with 1 Axes>"
      ]
     },
     "metadata": {},
     "output_type": "display_data"
    }
   ],
   "source": [
    "#7. Draw a sample from the dataset whose mean of marks percentage is equal to population\n",
    "f=plt.figure()\n",
    "f.set_figheight(20)\n",
    "l=student_details['Percentage'].mean()\n",
    "print(\"Population mean is \",l)\n",
    "d=student_details.tail(15)\n",
    "z=d[['Percentage']].mean()\n",
    "print('Sample mean is' ,z)\n",
    "plt.pie([l,z],labels=['population','Sample'],autopct='%1.1f%%')\n",
    "plt.title(\"pie chart!\")\n",
    "plt.show()\n"
   ]
  }
 ],
 "metadata": {
  "kernelspec": {
   "display_name": "Python 3",
   "language": "python",
   "name": "python3"
  },
  "language_info": {
   "codemirror_mode": {
    "name": "ipython",
    "version": 3
   },
   "file_extension": ".py",
   "mimetype": "text/x-python",
   "name": "python",
   "nbconvert_exporter": "python",
   "pygments_lexer": "ipython3",
   "version": "3.6.9"
  }
 },
 "nbformat": 4,
 "nbformat_minor": 5
}
